{
 "cells": [
  {
   "cell_type": "code",
   "execution_count": 30,
   "metadata": {},
   "outputs": [],
   "source": [
    "import sys\n",
    "sys.path.append('.') \n",
    "import pandas as pd\n",
    "import h3\n",
    "import os\n",
    "from multiprocessing import Pool"
   ]
  },
  {
   "cell_type": "code",
   "execution_count": 5,
   "metadata": {},
   "outputs": [
    {
     "data": {
      "text/plain": [
       "<module 'src.Aggregated_Plots' from '/Users/hemingyi/Research/202410_skmob/TimeGeo_rebuild/src/Aggregated_Plots.py'>"
      ]
     },
     "execution_count": 5,
     "metadata": {},
     "output_type": "execute_result"
    }
   ],
   "source": [
    "import importlib\n",
    "import src.SRFiltered_to_SimInput\n",
    "importlib.reload(src.SRFiltered_to_SimInput)\n",
    "import src.Simulation_Preparation\n",
    "importlib.reload(src.Simulation_Preparation)\n",
    "import src.Simulation_Mapper\n",
    "importlib.reload(src.Simulation_Mapper)\n",
    "import src.Simulation_PostProcessing\n",
    "importlib.reload(src.Simulation_PostProcessing)\n",
    "import src.Aggregated_Plots\n",
    "importlib.reload(src.Aggregated_Plots)"
   ]
  },
  {
   "cell_type": "code",
   "execution_count": 6,
   "metadata": {},
   "outputs": [
    {
     "name": "stdout",
     "output_type": "stream",
     "text": [
      "<built-in method run_DT_simulation of PyCapsule object at 0x1103cbc60>\n"
     ]
    }
   ],
   "source": [
    "import DT_user_param\n",
    "print(DT_user_param.run_DT_simulation)\n",
    "\n",
    "from src.SRFiltered_to_SimInput import decode_and_write_parameters, remove_redundant_stays, extract_frequent_users, extract_stay_regions_for_frequent_users, clean_and_format_fa_users\n",
    "from src.Simulation_Preparation import generate_simulation_input, generate_simulation_parameters, split_simulation_inputs, activeness, otherLocations\n",
    "from src.Simulation_Mapper import simulate\n",
    "from src.Simulation_PostProcessing import compress_simulation_results\n",
    "from src.Aggregated_Plots import plot_hourly_trip_counts, plot_dept_validation,  load_simulation_cdf, load_cdr_cdf, plot_stay_durations, parse_simulation_results, parse_observed_data, plot_trip_distance, plot_daily_visited_locations, plot_location_rank, count_time_periods, count_mode_transitions\n"
   ]
  },
  {
   "cell_type": "markdown",
   "metadata": {},
   "source": [
    "# 0-Data_Alightment"
   ]
  },
  {
   "cell_type": "code",
   "execution_count": null,
   "metadata": {},
   "outputs": [],
   "source": [
    "def data_aligntment(df_path, mark):\n",
    "    '''\n",
    "    The data_alignment function expects your input Parquet table to include exactly these four columns:\n",
    "\t1.\tcaid - a unique identifier for each user (any hashable type); it will be internally turned into integer codes.\n",
    "\t2.\tstay_start_timestamp - the timestamp (datetime or string) when the stay begins; this will be converted to UNIX seconds.\n",
    "\t3.\ttype - a label for the kind of stay (e.g. “home”, “work”, “other”); carried through verbatim into the output.\n",
    "\t4.\th3_id_region - an H3 index at resolution 16 (as an integer or string of digits); used to look up latitude/longitude.\n",
    "    '''\n",
    "    # 1) load\n",
    "    df = pd.read_parquet(df_path)\n",
    "\n",
    "    # 2) Convert H3 integer to hex string, get lat/lng\n",
    "    df['h3_id_region_16'] = df['h3_id_region'].astype(int).apply(lambda x: format(x, 'x'))\n",
    "    lat_lng = list(map(h3.h3_to_geo, df['h3_id_region_16']))\n",
    "    df['Latitude'], df['Longitude'] = zip(*lat_lng)\n",
    "    \n",
    "    # 3) Convert timestamp to UNIX seconds\n",
    "    df['timestamp'] = pd.to_datetime(df['stay_start_timestamp']).astype(int) // 10**9\n",
    "\n",
    "    # 4) Insert constant zero column\n",
    "    df['zero'] = 0\n",
    "\n",
    "    # 5) Factorize user IDs\n",
    "    df['caid'] = pd.factorize(df['caid'])[0]\n",
    "\n",
    "    # 6) Reorder for export\n",
    "    out_cols = ['caid', 'timestamp', 'type', 'zero', 'h3_id_region', 'Longitude', 'Latitude']\n",
    "    out_path = f'./Data_CDR_to_SRFiltered/StayRegionsFiltered_{mark}.txt'\n",
    "    df[out_cols].to_csv(out_path, sep=' ', index=False, header=False)"
   ]
  },
  {
   "cell_type": "code",
   "execution_count": 7,
   "metadata": {},
   "outputs": [
    {
     "name": "stdout",
     "output_type": "stream",
     "text": [
      "Directory created: ./results/Parameters\n",
      "Directory created: ./results/Parameters/NonCommuters\n",
      "Directory created: ./results/Parameters/Commuters\n",
      "Directory created: ./results/SRFiltered_to_SimInput\n",
      "Directory created: ./results/Simulation\n",
      "Directory created: ./results/figs\n"
     ]
    }
   ],
   "source": [
    "def ensure_dir(directory):\n",
    "    '''\n",
    "    Ensure that the given directory exists. If it does not, create it and log its creation.\n",
    "    '''\n",
    "    if not os.path.exists(directory):\n",
    "        os.makedirs(directory)\n",
    "        print(f\"Directory created: {directory}\")\n",
    "\n",
    "ensure_dir(\"./results/Parameters\")\n",
    "ensure_dir(\"./results/Parameters/NonCommuters\")\n",
    "ensure_dir(\"./results/Parameters/Commuters\")\n",
    "ensure_dir(\"./results/SRFiltered_to_SimInput\")\n",
    "ensure_dir(\"./results/Simulation\")\n",
    "ensure_dir(\"./results/figs\")"
   ]
  },
  {
   "cell_type": "code",
   "execution_count": 8,
   "metadata": {},
   "outputs": [],
   "source": [
    "mark = 'u5000' # test, u5000, full"
   ]
  },
  {
   "cell_type": "markdown",
   "metadata": {},
   "source": [
    "# 2-Parameters\n",
    "\n",
    "run_DT_simulation loads a sequence of stay‐region records for many individuals, computes their empirical daily/weekly activity patterns, and then simulates new trajectories under a Markov‐chain mobility model. It writes both the real and simulated distributions of inter‐stay times, daily location counts, and location sequences (home, work, others) into separate output files for “commuters” and “non-commuters.”\n",
    "\n",
    "- commuter_mode (bool, default false): if true, only processes individuals who visit a “work” location; otherwise only those who don’t.\n",
    "- min_num_stay (int, default 2): minimum number of recorded stays to include a person in the analysis.\n",
    "- max_num_stay (int, default 3000): maximum number of stays to include a person (filters out very long records).\n",
    "- nw_thres (double, default 1.0): minimum “normalized weekly active periods” required to include a person (filters very low-activity users).\n",
    "- slot_interval (int, default 600): time granularity in seconds for discretizing the simulation timeline (e.g. 600 s = 10 min slots).\n",
    "- rho (double, default 0.6): return‐probability weight in the preferential‐return step (higher → more likely to revisit known places).\n",
    "- gamma (double, default –0.21): power‐law exponent shaping the decay of return probability with the number of distinct locations."
   ]
  },
  {
   "cell_type": "code",
   "execution_count": 9,
   "metadata": {},
   "outputs": [
    {
     "name": "stdout",
     "output_type": "stream",
     "text": [
      "Total execution time for iterations: 14.8684 seconds\n"
     ]
    }
   ],
   "source": [
    "DT_user_param.run_DT_simulation(\n",
    "    input_path=f\"./Data_CDR_to_SRFiltered/StayRegionsFiltered_{mark}.txt\",\n",
    "    output_dir=\"./results/parameters\",\n",
    "    commuter_mode=False,\n",
    "    min_num_stay=2,\n",
    "    max_num_stay=3000,\n",
    "    nw_thres=1.0,\n",
    "    slot_interval=600,\n",
    "    rho=0.6,\n",
    "    gamma=-0.21\n",
    ")"
   ]
  },
  {
   "cell_type": "code",
   "execution_count": 10,
   "metadata": {},
   "outputs": [],
   "source": [
    "DT_user_param.run_DT_simulation(\n",
    "    input_path=f\"./Data_CDR_to_SRFiltered/StayRegionsFiltered_{mark}.txt\",\n",
    "    output_dir=\"./results/parameters\",\n",
    "    commuter_mode=True,\n",
    "    min_num_stay=2,\n",
    "    max_num_stay=3000,\n",
    "    nw_thres=1.0,\n",
    "    slot_interval=600,\n",
    "    rho=0.6,\n",
    "    gamma=-0.21\n",
    ")"
   ]
  },
  {
   "cell_type": "code",
   "execution_count": 11,
   "metadata": {},
   "outputs": [
    {
     "name": "stdout",
     "output_type": "stream",
     "text": [
      "Decoded parameters written to:\n",
      "  ./results/Parameters/ParametersCommuters.txt\n",
      "  ./results/Parameters/ParametersNonCommuters.txt\n"
     ]
    }
   ],
   "source": [
    "## 3-ParameterValues.py\n",
    "#Decode indexed b1 and b2 values in commuter and non-commuter parameter files,replacing them with actual numeric values, and write the results to new files.\n",
    "b1_array = list(range(1, 21))\n",
    "b2_array = list(range(1, 21))\n",
    "\n",
    "decode_and_write_parameters(\n",
    "    b1_array=b1_array,\n",
    "    b2_array=b2_array,\n",
    "    commuter_input_path=    './results/Parameters/Commuters/ParametersCommuters.txt',\n",
    "    noncommuter_input_path= './results/Parameters/NonCommuters/ParametersNonCommuters.txt',\n",
    "    commuter_output_path=   './results/Parameters/ParametersCommuters.txt',\n",
    "    noncommuter_output_path='./results/Parameters/ParametersNonCommuters.txt'\n",
    ")"
   ]
  },
  {
   "cell_type": "markdown",
   "metadata": {},
   "source": [
    "# 3-SRFiltered_to_SimInput"
   ]
  },
  {
   "cell_type": "code",
   "execution_count": 12,
   "metadata": {},
   "outputs": [],
   "source": [
    "## 0_removeRedundance.py\n",
    "# This function removes consecutive stays at the same stay location from the input file.\n",
    "# [Outputfile] FilteredStayRegions_set.txt: [0-userID, 1-timestamp, 2-trip_purpose, 3-location_ID(h3), 4-lon, 5-lat]\n",
    "\n",
    "remove_redundant_stays(\n",
    "    input_path=f'./Data_CDR_to_SRFiltered/StayRegionsFiltered_{mark}.txt',\n",
    "    output_path='./results/SRFiltered_to_SimInput/FilteredStayRegions_set.txt')"
   ]
  },
  {
   "cell_type": "code",
   "execution_count": 13,
   "metadata": {},
   "outputs": [
    {
     "name": "stdout",
     "output_type": "stream",
     "text": [
      "Saved 983 users to ./results/SRFiltered_to_SimInput/FAUsers.txt\n"
     ]
    }
   ],
   "source": [
    "## 1_FAUsers.py\n",
    "# This function reads a whitespace-delimited stay-region file line by line, counts the number of distinct “stays” per user (incrementing whenever the location coordinates change), and writes out the IDs of all users whose stay count exceeds num_stays_threshold.\n",
    "# num_stays_threshold (int, default=15): minimum number of distinct stays a user must have to be included.\n",
    "\n",
    "extract_frequent_users(\n",
    "    input_path='./results/SRFiltered_to_SimInput/FilteredStayRegions_set.txt', \n",
    "    output_path='./results/SRFiltered_to_SimInput/FAUsers.txt', \n",
    "    num_stays_threshold=15)"
   ]
  },
  {
   "cell_type": "code",
   "execution_count": 14,
   "metadata": {},
   "outputs": [
    {
     "name": "stdout",
     "output_type": "stream",
     "text": [
      "Filtered stay regions written to: ./results/SRFiltered_to_SimInput/FAUsers_StayRegions.txt\n"
     ]
    }
   ],
   "source": [
    "## 2_FAUsers_StayRegions.py\n",
    "# This function filters a master stay-region file to include only those records belonging to a predefined list of “frequent” users and writes each user’s unique stay-region entries (no consecutive duplicates) to a new file.\n",
    "# [Outputfile] FAUsers_StayRegions.txt: [0-userID, 1-date, 2-time, 3-trip_purpose, 4-lon, 5-lat]\n",
    "\n",
    "extract_stay_regions_for_frequent_users(\n",
    "    fa_users_path='./results/SRFiltered_to_SimInput/FAUsers.txt',\n",
    "    input_path='./results/SRFiltered_to_SimInput/FilteredStayRegions_set.txt',\n",
    "    output_path='./results/SRFiltered_to_SimInput/FAUsers_StayRegions.txt'\n",
    ")"
   ]
  },
  {
   "cell_type": "code",
   "execution_count": 15,
   "metadata": {},
   "outputs": [
    {
     "name": "stdout",
     "output_type": "stream",
     "text": [
      "Formatted data written to: ./results/SRFiltered_to_SimInput/FAUsers_Cleaned_Formatted.txt\n"
     ]
    }
   ],
   "source": [
    "## 3_Format_SimInput.py\n",
    "# This function reads a pre-filtered stay-region file, re-indexes each user’s unique locations, maps numeric location types to letter codes, removes consecutive duplicate visits, and writes the cleaned, reformatted records to a new file.\n",
    "# [Outputfile] FAUsers_Cleaned_Formatted.txt: [0-userID, 1-date, 2-time, 3-trip_purpose['o','h','w'], 4-lon, 5-lat, 6-Location_index]\n",
    "\n",
    "clean_and_format_fa_users(\n",
    "    input_path='./results/SRFiltered_to_SimInput/FAUsers_StayRegions.txt',\n",
    "    output_path='./results/SRFiltered_to_SimInput/FAUsers_Cleaned_Formatted.txt'\n",
    ")"
   ]
  },
  {
   "cell_type": "markdown",
   "metadata": {},
   "source": [
    "# 5-Simulation"
   ]
  },
  {
   "cell_type": "code",
   "execution_count": 16,
   "metadata": {},
   "outputs": [
    {
     "name": "stdout",
     "output_type": "stream",
     "text": [
      "Simulation input written to: ./results/Simulation/simulation_location.txt\n"
     ]
    }
   ],
   "source": [
    "## 1_formatStays.py\n",
    "#   This function is to generate input to be fed to the simulation script. The stays are available in the following format: [userId, Date, timestamp, locationType, lon, lat, locId]. The required input to the simulation is of the type: [locationId, frequency, lon, lat] with a separate line with userId to indicate switch of user.\n",
    "# [Outputfile] simulation_location.txt: [locationId, frequency, lon, lat], with a separate line with userId to indicate switch of user\n",
    "\n",
    "generate_simulation_input(\n",
    "    input_path='./results/SRFiltered_to_SimInput/FAUsers_Cleaned_Formatted.txt',\n",
    "    output_path='./results/Simulation/simulation_location.txt'\n",
    ")"
   ]
  },
  {
   "cell_type": "code",
   "execution_count": 17,
   "metadata": {},
   "outputs": [
    {
     "name": "stdout",
     "output_type": "stream",
     "text": [
      "Generated simulation parameters at ./results/Simulation/simulation_parameter.txt\n"
     ]
    }
   ],
   "source": [
    "## 2_formatParameters.py\n",
    "# This function builds a single flat file of “simulation‐ready” parameter records for both commuter and non-commuter users. It draws each user’s time‐of‐departure and trip‐duration from a Gaussian mixture (GMM) model, assigns a random “regular vs. flexible” label, and encodes their daily work schedule over a specified number of days.\n",
    "\n",
    "generate_simulation_parameters( \n",
    "    commuter_path='./results/Parameters/ParametersCommuters.txt',\n",
    "    noncommuter_path='./results/Parameters/ParametersNonCommuters.txt',\n",
    "    output_path='./results/Simulation/simulation_parameter.txt',\n",
    "    work_prob_weekday=0.829, # probability a commuter works on a weekday\n",
    "    work_prob_weekend=0.354, # probability a commuter works on a weekend day\n",
    "    num_days=1, # number of consecutive days to simulate (each of 144 ten-minute slots)\n",
    "    reg_prob=0.846, # probability a commuter is labeled “regular” vs. “flexible”\n",
    "    gmm_group_index=0) # gmm_group_index=0: Regular commuters, 1: Flexible commuters\n",
    "\n",
    "# simulation_parameter.txt\n",
    "# if work_flag == 1:\n",
    "    # [user_index] [user_id] [work_flag] [home_tract] [work_tract] [reg]\n",
    "    # [beta1] [beta2] [nw]\n",
    "    # [working_d0] [ts_d0] [dur_d0]\n",
    "    # [working_d1] [ts_d1] [dur_d1]\n",
    "# elif work_flag == 0:\n",
    "    # [user_index] [user_id] [work_flag] [home_tract] [work_tract] [reg]\n",
    "    # [beta1] [beta2] [nw]\n",
    "    # [working] [ts] [dur] = [0 0 0]"
   ]
  },
  {
   "cell_type": "code",
   "execution_count": 18,
   "metadata": {},
   "outputs": [],
   "source": [
    "num_cpus=16"
   ]
  },
  {
   "cell_type": "code",
   "execution_count": 19,
   "metadata": {},
   "outputs": [
    {
     "name": "stdout",
     "output_type": "stream",
     "text": [
      "Chunks saved in: ./results/Simulation\n"
     ]
    }
   ],
   "source": [
    "## 3_MapInputSynthesis.py\n",
    "# Splits simulation_parameter.txt and simulation_location.txt into chunks by user ID for parallel processing (MapReduce-style).\n",
    "\n",
    "split_simulation_inputs(\n",
    "    parameter_path='./results/Simulation/simulation_parameter.txt',\n",
    "    location_path='./results/Simulation/simulation_location.txt',\n",
    "    formatted_user_path='./results/SRFiltered_to_SimInput/FAUsers_Cleaned_Formatted.txt',\n",
    "    output_dir='./results/Simulation',\n",
    "    num_cpus=num_cpus\n",
    ")"
   ]
  },
  {
   "cell_type": "code",
   "execution_count": 20,
   "metadata": {},
   "outputs": [
    {
     "name": "stdout",
     "output_type": "stream",
     "text": [
      "# of locations: 15481\n",
      "# of users: 983\n"
     ]
    }
   ],
   "source": [
    "## 5_MapReduceInput/dataPreparation.py\n",
    "# Prepare activeness.txt and otherlocation.txt for Mapper.py\n",
    "activeness(\n",
    "    noncomm_daily_path='./results/Parameters/NonComm_pt_daily.txt', \n",
    "    noncomm_weekly_path='./results/Parameters/NonComm_pt_weekly.txt', \n",
    "    comm_daily_path='./results/Parameters/Comm_pt_daily.txt', \n",
    "    comm_weekly_path='./results/Parameters/Comm_pt_weekly.txt', \n",
    "    output_path='./results/Simulation/activeness.txt'\n",
    "    )\n",
    "otherLocations(\n",
    "    input_path='./results/Simulation/simulation_location.txt', \n",
    "    output_path='./results/Simulation/otherlocation.txt', \n",
    "    sample_fraction=0.02)\n"
   ]
  },
  {
   "cell_type": "code",
   "execution_count": null,
   "metadata": {},
   "outputs": [],
   "source": [
    "## 5_MapReduceInput/Mapper.py\n",
    "# This function runs a slot-by-slot, activity-driven mobility simulation for each user “shard” (indexed by file_index).\n",
    "\n",
    "for file_index in range(num_cpus):\n",
    "    simulate(\n",
    "        file_index=file_index,\n",
    "        other_locations_file='./results/Simulation/otherlocation.txt',\n",
    "        activeness_file='./results/Simulation/activeness.txt',\n",
    "        num_days=1,\n",
    "        start_slot=0,\n",
    "        users_locations_dir='./results/Simulation/Locations',\n",
    "        users_parameters_dir='./results/Simulation/Parameters',\n",
    "        output_dir='./results/Simulation/Mapped',\n",
    "        #--log-normal + Cauchy break sampling--\n",
    "        break_mean=3.75106,\n",
    "        break_sd=0.681418,\n",
    "        break_x0=0.0,\n",
    "        break_gamma=0.1,\n",
    "        #--preferential-return vs. exploration weights--\n",
    "        rho=0.6,\n",
    "        gamma_val=-0.21,\n",
    "        #--minimum exploration distance and rank-selection exponent--\n",
    "        min_dist=0.6,\n",
    "        exponent=-0.86\n",
    "    )"
   ]
  },
  {
   "cell_type": "code",
   "execution_count": 22,
   "metadata": {},
   "outputs": [],
   "source": [
    "## 5_MapReduceInput/1_Compressor.py\n",
    "# Compresses simulation result files in the specified folder that start with a given prefix.\n",
    "\n",
    "compress_simulation_results(\n",
    "    input_folder='./results/Simulation/Mapped/', \n",
    "    output_folder='./results/Simulation/Compressed/', \n",
    "    file_prefix='simulationResults_'\n",
    ")"
   ]
  },
  {
   "cell_type": "markdown",
   "metadata": {},
   "source": [
    "# Plots"
   ]
  },
  {
   "cell_type": "code",
   "execution_count": 23,
   "metadata": {},
   "outputs": [
    {
     "name": "stdout",
     "output_type": "stream",
     "text": [
      "HBW = [0, 0, 0, 1, 1, 22, 45, 104, 68, 34, 19, 11, 16, 31, 20, 57, 94, 78, 34, 12, 9, 6, 1, 5]\n",
      "HBO = [113, 127, 130, 127, 128, 136, 120, 90, 61, 49, 37, 30, 35, 34, 57, 67, 90, 107, 112, 127, 144, 166, 135, 122]\n",
      "NHB = [95, 108, 78, 99, 99, 101, 111, 93, 73, 40, 51, 85, 102, 52, 70, 100, 96, 113, 113, 97, 141, 116, 82, 110]\n",
      "Total = [208, 235, 208, 227, 228, 259, 276, 287, 202, 123, 107, 126, 153, 117, 147, 224, 280, 298, 259, 236, 294, 288, 218, 237]\n",
      "Number of users : 982\n",
      "Number of commuter users : 442\n",
      "Number of noncommuter users : 540\n"
     ]
    }
   ],
   "source": [
    "# 5_MapReduceInput/AggregatedPlots/1-type_of_trip_hourly.py\n",
    "plot_hourly_trip_counts(\n",
    "    mapped_dir='./results/Simulation/Mapped/',\n",
    "    output='./results/figs/1-HourlyTripCount.png'\n",
    ")"
   ]
  },
  {
   "cell_type": "code",
   "execution_count": 24,
   "metadata": {},
   "outputs": [
    {
     "name": "stdout",
     "output_type": "stream",
     "text": [
      "Stay Durations\n",
      "[0.16666666666666666, 0.3333333333333333, 0.5, 0.6666666666666666, 0.8333333333333334, 1.0, 1.1666666666666667, 1.3333333333333333, 1.5, 1.6666666666666667, 1.8333333333333333, 2.0, 2.1666666666666665, 2.3333333333333335, 2.5, 2.6666666666666665, 2.8333333333333335, 3.0, 3.1666666666666665, 3.3333333333333335, 3.5, 3.6666666666666665, 3.8333333333333335, 4.0, 4.166666666666667, 4.333333333333333, 4.5, 4.666666666666667, 4.833333333333333, 5.0, 5.166666666666667, 5.333333333333333, 5.5, 5.666666666666667, 5.833333333333333, 6.0, 6.166666666666667, 6.333333333333333, 6.5, 6.666666666666667, 6.833333333333333, 7.0, 7.166666666666667, 7.333333333333333, 7.5, 7.666666666666667, 7.833333333333333, 8.0, 8.166666666666666, 8.333333333333334, 8.5, 8.666666666666666, 8.833333333333334, 9.0, 9.166666666666666, 9.333333333333334, 9.5, 9.666666666666666, 9.833333333333334, 10.0, 10.166666666666666, 10.333333333333334, 10.5, 10.666666666666666, 10.833333333333334, 11.0, 11.166666666666666, 11.333333333333334, 11.5, 11.666666666666666, 11.833333333333334, 12.0, 12.166666666666666, 12.333333333333334, 12.5, 12.666666666666666, 12.833333333333334, 13.0, 13.166666666666666, 13.333333333333334, 13.5, 13.666666666666666, 13.833333333333334, 14.0, 14.166666666666666, 14.333333333333334, 14.5, 14.666666666666666, 14.833333333333334, 15.0, 15.166666666666666, 15.333333333333334, 15.5, 15.666666666666666, 15.833333333333334, 16.0, 16.166666666666668, 16.333333333333332, 16.5, 16.666666666666668, 16.833333333333332, 17.0, 17.166666666666668, 17.333333333333332, 17.5, 17.666666666666668, 17.833333333333332, 18.0, 18.166666666666668, 18.333333333333332, 18.5, 18.666666666666668, 18.833333333333332, 19.0, 19.166666666666668, 19.333333333333332, 19.5, 19.666666666666668, 19.833333333333332, 20.0, 20.166666666666668, 20.333333333333332, 20.5, 20.833333333333332, 21.0, 21.166666666666668, 21.333333333333332, 21.5, 21.666666666666668, 22.0, 22.166666666666668, 22.333333333333332, 22.5, 22.833333333333332, 23.0, 23.166666666666668, 23.333333333333332, 23.5, 23.666666666666668, 23.833333333333332] [0.07509881422924901, 0.062187088274044795, 0.052700922266139656, 0.048748353096179184, 0.038998682476943346, 0.04057971014492753, 0.028722002635046113, 0.028194993412384718, 0.025032938076416336, 0.027140974967061922, 0.020289855072463767, 0.017918313570487482, 0.017918313570487482, 0.019235836627140974, 0.013438735177865613, 0.014756258234519103, 0.016600790513833993, 0.01370223978919631, 0.012121212121212121, 0.011857707509881422, 0.015546772068511199, 0.013175230566534914, 0.011067193675889328, 0.012911725955204217, 0.00922266139657444, 0.012121212121212121, 0.011594202898550725, 0.009486166007905139, 0.008695652173913044, 0.010276679841897233, 0.011067193675889328, 0.006587615283267457, 0.009486166007905139, 0.007378129117259552, 0.006324110671936759, 0.007378129117259552, 0.0071146245059288534, 0.006851119894598155, 0.007905138339920948, 0.008695652173913044, 0.00922266139657444, 0.006324110671936759, 0.005270092226613966, 0.006851119894598155, 0.010276679841897233, 0.006060606060606061, 0.008695652173913044, 0.007641633728590251, 0.006587615283267457, 0.0071146245059288534, 0.0071146245059288534, 0.006587615283267457, 0.008432147562582345, 0.007905138339920948, 0.006851119894598155, 0.006851119894598155, 0.006060606060606061, 0.008168642951251647, 0.006060606060606061, 0.005006587615283268, 0.002898550724637681, 0.004216073781291172, 0.0023715415019762848, 0.002898550724637681, 0.0007905138339920949, 0.002898550724637681, 0.0013175230566534915, 0.001054018445322793, 0.0023715415019762848, 0.0015810276679841897, 0.0013175230566534915, 0.0013175230566534915, 0.002635046113306983, 0.002108036890645586, 0.001054018445322793, 0.0013175230566534915, 0.0005270092226613965, 0.0013175230566534915, 0.001054018445322793, 0.0005270092226613965, 0.001844532279314888, 0.00026350461133069827, 0.001054018445322793, 0.001844532279314888, 0.0013175230566534915, 0.0013175230566534915, 0.001054018445322793, 0.0007905138339920949, 0.001054018445322793, 0.0013175230566534915, 0.0005270092226613965, 0.0005270092226613965, 0.0007905138339920949, 0.00026350461133069827, 0.00026350461133069827, 0.001054018445322793, 0.0007905138339920949, 0.0007905138339920949, 0.0007905138339920949, 0.0015810276679841897, 0.00026350461133069827, 0.0007905138339920949, 0.0007905138339920949, 0.0005270092226613965, 0.001054018445322793, 0.0007905138339920949, 0.0005270092226613965, 0.0007905138339920949, 0.0007905138339920949, 0.0013175230566534915, 0.0015810276679841897, 0.00026350461133069827, 0.00026350461133069827, 0.0007905138339920949, 0.0005270092226613965, 0.0005270092226613965, 0.00026350461133069827, 0.00026350461133069827, 0.001054018445322793, 0.0005270092226613965, 0.00026350461133069827, 0.0005270092226613965, 0.001054018445322793, 0.0005270092226613965, 0.001054018445322793, 0.0005270092226613965, 0.0007905138339920949, 0.0007905138339920949, 0.00026350461133069827, 0.0005270092226613965, 0.0005270092226613965, 0.00026350461133069827, 0.00026350461133069827, 0.0005270092226613965, 0.00026350461133069827, 0.00026350461133069827, 0.00026350461133069827, 0.0005270092226613965, 0.00026350461133069827, 0.0007905138339920949]\n"
     ]
    }
   ],
   "source": [
    "# 5_MapReduceInput/AggregatedPlots/2-StayDurations.py\n",
    "\n",
    "# 1. Read and calculate PDF of simulation results\n",
    "sim_cdf = load_simulation_cdf(\n",
    "    mapped_dir='./results/Simulation/Mapped/',\n",
    "    filename_pattern='simulationResults_',\n",
    "    max_duration=36,\n",
    "    resolution=6\n",
    ")\n",
    "\n",
    "# 2. Reads and calculates PDF of CDR data\n",
    "cdr_cdf = load_cdr_cdf(\n",
    "    cdr_file='./results/SRFiltered_to_SimInput/FAUsers_Cleaned_Formatted.txt',\n",
    "    max_duration=36,\n",
    "    resolution=6\n",
    ")\n",
    "\n",
    "# 3. Plotting\n",
    "plot_stay_durations(\n",
    "    sim_cdf=sim_cdf,\n",
    "    cdr_cdf=cdr_cdf,\n",
    "    output_file='./results/figs/2-StayDuration_All.png',\n",
    "    xlim=(0, 24),\n",
    "    ylim=(0.0001, 1),\n",
    "    figsize=(4, 3)\n",
    ")\n"
   ]
  },
  {
   "cell_type": "code",
   "execution_count": 25,
   "metadata": {},
   "outputs": [
    {
     "name": "stdout",
     "output_type": "stream",
     "text": [
      "Trip Distance\n",
      "[1, 2, 3, 4, 5, 6, 7, 8, 9, 10, 11, 12, 13, 14, 15, 16, 17, 18, 19, 20, 21, 22, 23, 24, 25, 26, 27, 28, 29, 30, 31, 32, 33, 34, 35, 36, 37, 38, 39, 40, 41, 42, 43, 44, 45, 46, 47, 48, 49, 50, 51, 52, 53, 54, 55, 56, 57, 58, 59, 60, 61, 62, 63, 64, 65, 66, 67, 68, 69, 70, 71, 72, 73, 74, 75, 76, 77, 78, 79, 80, 81, 82, 83, 84, 85, 86, 87, 88, 89, 90, 91, 92, 93, 94, 95, 96, 97, 98, 99, 100, 101, 102, 104, 105, 106, 107, 108, 109, 110, 111, 112, 114, 115, 118, 119, 120, 121, 122, 124, 125, 126, 127, 130, 131, 134, 135, 136, 137, 138, 139, 141, 142, 144, 145, 146, 147, 149, 150, 151, 152, 153, 154, 155, 157, 158, 159, 161, 162, 164, 165, 166, 167, 169, 170, 171, 172, 173, 175, 176, 177, 178, 181, 182, 186, 187, 188, 189, 190, 191, 192, 193, 194, 195, 197, 200, 204, 206, 207, 208, 211, 212, 214, 215, 216, 219, 220, 221, 222, 226, 227, 228, 229, 232, 233, 236, 237, 240, 243, 246, 247, 248, 250, 251, 253, 256, 263, 264, 265, 266, 267, 269, 270, 271, 272, 273, 274, 278, 281, 282, 283, 284, 285, 286, 287, 288, 290, 291, 292, 293, 294, 295, 296, 297, 298, 299, 300, 302, 304, 312, 313, 314, 316, 320, 323, 327, 330, 331, 337, 340, 342, 343, 344, 345, 348, 349, 351, 352, 353, 354, 355, 356, 357, 358, 359, 360, 361, 362, 364, 365, 366, 367, 368, 370, 371, 372, 373, 374, 375, 381, 382, 383, 384, 386, 387, 388, 390, 397, 399, 401, 402, 411, 412, 414, 415, 416, 417, 418, 423, 445, 448, 452, 459, 462, 463, 464, 467, 470, 471, 474, 476, 477, 484, 492, 496, 498, 500, 503, 504, 506, 508, 509, 512, 513, 514, 516, 524, 525, 526, 528, 531, 532, 534, 536, 538, 539, 540, 546, 547, 548, 549, 550, 551, 553, 554, 555, 556, 557, 559, 560, 561, 562, 563, 565, 567, 568, 570, 571, 572, 573, 576, 577, 578, 579, 580, 581, 582, 583, 584, 587, 588, 590, 592, 594, 596, 597, 598, 599, 601, 602, 603, 605, 609, 610, 613, 614, 615, 618, 619, 620, 622, 624, 626, 628, 629, 637, 640, 641, 642, 643, 645, 647, 648, 649, 652, 654, 657, 660, 670, 671, 672, 674, 675, 676, 678, 680, 683, 684, 689, 691, 701, 721, 725, 731, 742, 748, 750, 754, 759, 765, 769, 787, 804, 807, 827, 850, 854, 881, 887, 889, 909, 922, 931, 933, 941, 1179, 3453, 3455, 3483, 3657, 3671, 3672, 3706, 3736, 3784, 3787, 4033, 4034, 4039] [0.052964426877470355, 0.06455862977602109, 0.05823451910408432, 0.04426877470355731, 0.0455862977602108, 0.026613965744400527, 0.03715415019762846, 0.024242424242424242, 0.023715415019762844, 0.026350461133069828, 0.021343873517786563, 0.019235836627140974, 0.015283267457180501, 0.014492753623188406, 0.01396574440052701, 0.02160737812911726, 0.013438735177865613, 0.01870882740447958, 0.008959156785243741, 0.008432147562582345, 0.01080368906455863, 0.007905138339920948, 0.008695652173913044, 0.010013175230566536, 0.006060606060606061, 0.005797101449275362, 0.0047430830039525695, 0.005270092226613966, 0.0034255599472990776, 0.004216073781291172, 0.004216073781291172, 0.003689064558629776, 0.002898550724637681, 0.006060606060606061, 0.005270092226613966, 0.002898550724637681, 0.002898550724637681, 0.0044795783926218705, 0.001054018445322793, 0.003689064558629776, 0.005533596837944664, 0.0034255599472990776, 0.0034255599472990776, 0.0023715415019762848, 0.002108036890645586, 0.003952569169960474, 0.002898550724637681, 0.001054018445322793, 0.0031620553359683794, 0.004216073781291172, 0.002898550724637681, 0.0044795783926218705, 0.0015810276679841897, 0.0005270092226613965, 0.002108036890645586, 0.002635046113306983, 0.0015810276679841897, 0.0013175230566534915, 0.002898550724637681, 0.002635046113306983, 0.0044795783926218705, 0.005270092226613966, 0.0015810276679841897, 0.002898550724637681, 0.002898550724637681, 0.00026350461133069827, 0.001054018445322793, 0.002635046113306983, 0.0007905138339920949, 0.002108036890645586, 0.001844532279314888, 0.0015810276679841897, 0.0015810276679841897, 0.0023715415019762848, 0.0015810276679841897, 0.0015810276679841897, 0.0005270092226613965, 0.0015810276679841897, 0.0007905138339920949, 0.002635046113306983, 0.0023715415019762848, 0.001844532279314888, 0.0015810276679841897, 0.0007905138339920949, 0.00026350461133069827, 0.001844532279314888, 0.001054018445322793, 0.0005270092226613965, 0.0015810276679841897, 0.001844532279314888, 0.0015810276679841897, 0.0007905138339920949, 0.0015810276679841897, 0.002108036890645586, 0.00026350461133069827, 0.0005270092226613965, 0.0023715415019762848, 0.0007905138339920949, 0.0034255599472990776, 0.0005270092226613965, 0.00026350461133069827, 0.0005270092226613965, 0.0013175230566534915, 0.0013175230566534915, 0.0013175230566534915, 0.0013175230566534915, 0.001844532279314888, 0.0013175230566534915, 0.0005270092226613965, 0.0013175230566534915, 0.0013175230566534915, 0.0013175230566534915, 0.00026350461133069827, 0.0005270092226613965, 0.001844532279314888, 0.0005270092226613965, 0.0005270092226613965, 0.0007905138339920949, 0.0007905138339920949, 0.0013175230566534915, 0.0007905138339920949, 0.0005270092226613965, 0.0005270092226613965, 0.0007905138339920949, 0.0023715415019762848, 0.0005270092226613965, 0.0015810276679841897, 0.0007905138339920949, 0.001054018445322793, 0.0005270092226613965, 0.0007905138339920949, 0.001054018445322793, 0.0007905138339920949, 0.0005270092226613965, 0.0015810276679841897, 0.001054018445322793, 0.0005270092226613965, 0.0005270092226613965, 0.0005270092226613965, 0.001844532279314888, 0.001054018445322793, 0.0005270092226613965, 0.0007905138339920949, 0.00026350461133069827, 0.0007905138339920949, 0.0015810276679841897, 0.001054018445322793, 0.0005270092226613965, 0.0007905138339920949, 0.0007905138339920949, 0.0013175230566534915, 0.0005270092226613965, 0.00026350461133069827, 0.0005270092226613965, 0.0005270092226613965, 0.0007905138339920949, 0.0005270092226613965, 0.00026350461133069827, 0.00026350461133069827, 0.0005270092226613965, 0.0005270092226613965, 0.0015810276679841897, 0.0007905138339920949, 0.001844532279314888, 0.0013175230566534915, 0.00026350461133069827, 0.00026350461133069827, 0.00026350461133069827, 0.001054018445322793, 0.00026350461133069827, 0.00026350461133069827, 0.0013175230566534915, 0.00026350461133069827, 0.00026350461133069827, 0.0015810276679841897, 0.0005270092226613965, 0.0005270092226613965, 0.00026350461133069827, 0.00026350461133069827, 0.0005270092226613965, 0.00026350461133069827, 0.00026350461133069827, 0.0005270092226613965, 0.0005270092226613965, 0.001054018445322793, 0.0007905138339920949, 0.00026350461133069827, 0.0007905138339920949, 0.0007905138339920949, 0.00026350461133069827, 0.00026350461133069827, 0.001054018445322793, 0.0005270092226613965, 0.0005270092226613965, 0.00026350461133069827, 0.0005270092226613965, 0.00026350461133069827, 0.00026350461133069827, 0.0007905138339920949, 0.0005270092226613965, 0.00026350461133069827, 0.00026350461133069827, 0.0013175230566534915, 0.00026350461133069827, 0.00026350461133069827, 0.0007905138339920949, 0.0005270092226613965, 0.001054018445322793, 0.00026350461133069827, 0.00026350461133069827, 0.00026350461133069827, 0.0007905138339920949, 0.0007905138339920949, 0.00026350461133069827, 0.0005270092226613965, 0.0005270092226613965, 0.00026350461133069827, 0.00026350461133069827, 0.00026350461133069827, 0.001054018445322793, 0.0005270092226613965, 0.00026350461133069827, 0.00026350461133069827, 0.00026350461133069827, 0.0005270092226613965, 0.0005270092226613965, 0.00026350461133069827, 0.0005270092226613965, 0.0005270092226613965, 0.001054018445322793, 0.0007905138339920949, 0.0007905138339920949, 0.001054018445322793, 0.001054018445322793, 0.00026350461133069827, 0.0005270092226613965, 0.001054018445322793, 0.00026350461133069827, 0.00026350461133069827, 0.0005270092226613965, 0.0005270092226613965, 0.00026350461133069827, 0.0007905138339920949, 0.00026350461133069827, 0.001054018445322793, 0.00026350461133069827, 0.0005270092226613965, 0.00026350461133069827, 0.0005270092226613965, 0.00026350461133069827, 0.00026350461133069827, 0.00026350461133069827, 0.00026350461133069827, 0.0005270092226613965, 0.0005270092226613965, 0.00026350461133069827, 0.00026350461133069827, 0.0007905138339920949, 0.0007905138339920949, 0.00026350461133069827, 0.0015810276679841897, 0.0005270092226613965, 0.0007905138339920949, 0.00026350461133069827, 0.001054018445322793, 0.001054018445322793, 0.00026350461133069827, 0.001844532279314888, 0.0013175230566534915, 0.00026350461133069827, 0.0005270092226613965, 0.0007905138339920949, 0.0007905138339920949, 0.0005270092226613965, 0.00026350461133069827, 0.00026350461133069827, 0.001054018445322793, 0.001844532279314888, 0.00026350461133069827, 0.0005270092226613965, 0.0013175230566534915, 0.0005270092226613965, 0.0005270092226613965, 0.0005270092226613965, 0.0005270092226613965, 0.00026350461133069827, 0.00026350461133069827, 0.0005270092226613965, 0.00026350461133069827, 0.0005270092226613965, 0.0005270092226613965, 0.00026350461133069827, 0.00026350461133069827, 0.0007905138339920949, 0.00026350461133069827, 0.00026350461133069827, 0.0005270092226613965, 0.00026350461133069827, 0.00026350461133069827, 0.00026350461133069827, 0.00026350461133069827, 0.00026350461133069827, 0.00026350461133069827, 0.00026350461133069827, 0.00026350461133069827, 0.00026350461133069827, 0.0005270092226613965, 0.00026350461133069827, 0.00026350461133069827, 0.00026350461133069827, 0.0005270092226613965, 0.00026350461133069827, 0.00026350461133069827, 0.00026350461133069827, 0.00026350461133069827, 0.0013175230566534915, 0.0007905138339920949, 0.0005270092226613965, 0.0007905138339920949, 0.0005270092226613965, 0.0005270092226613965, 0.0005270092226613965, 0.00026350461133069827, 0.00026350461133069827, 0.00026350461133069827, 0.0007905138339920949, 0.0007905138339920949, 0.0005270092226613965, 0.00026350461133069827, 0.0005270092226613965, 0.00026350461133069827, 0.0007905138339920949, 0.00026350461133069827, 0.001054018445322793, 0.0007905138339920949, 0.0005270092226613965, 0.00026350461133069827, 0.00026350461133069827, 0.0005270092226613965, 0.0007905138339920949, 0.00026350461133069827, 0.0005270092226613965, 0.001054018445322793, 0.0007905138339920949, 0.0007905138339920949, 0.0007905138339920949, 0.0005270092226613965, 0.0007905138339920949, 0.0005270092226613965, 0.0013175230566534915, 0.0005270092226613965, 0.00026350461133069827, 0.0007905138339920949, 0.0005270092226613965, 0.0005270092226613965, 0.00026350461133069827, 0.0007905138339920949, 0.0007905138339920949, 0.0005270092226613965, 0.0007905138339920949, 0.00026350461133069827, 0.00026350461133069827, 0.0007905138339920949, 0.00026350461133069827, 0.001054018445322793, 0.001054018445322793, 0.0005270092226613965, 0.0005270092226613965, 0.0005270092226613965, 0.001054018445322793, 0.0013175230566534915, 0.0005270092226613965, 0.00026350461133069827, 0.0005270092226613965, 0.00026350461133069827, 0.00026350461133069827, 0.0005270092226613965, 0.0005270092226613965, 0.0005270092226613965, 0.00026350461133069827, 0.0005270092226613965, 0.0005270092226613965, 0.0005270092226613965, 0.0005270092226613965, 0.0005270092226613965, 0.00026350461133069827, 0.001844532279314888, 0.0007905138339920949, 0.0005270092226613965, 0.0007905138339920949, 0.0015810276679841897, 0.0005270092226613965, 0.0015810276679841897, 0.0005270092226613965, 0.00026350461133069827, 0.0005270092226613965, 0.00026350461133069827, 0.00026350461133069827, 0.00026350461133069827, 0.00026350461133069827, 0.0007905138339920949, 0.0007905138339920949, 0.0005270092226613965, 0.0005270092226613965, 0.0007905138339920949, 0.0015810276679841897, 0.00026350461133069827, 0.0005270092226613965, 0.00026350461133069827, 0.00026350461133069827, 0.00026350461133069827, 0.0005270092226613965, 0.00026350461133069827, 0.0005270092226613965, 0.0007905138339920949, 0.00026350461133069827, 0.00026350461133069827, 0.0005270092226613965, 0.00026350461133069827, 0.00026350461133069827, 0.0005270092226613965, 0.0005270092226613965, 0.001054018445322793, 0.00026350461133069827, 0.0005270092226613965, 0.00026350461133069827, 0.0005270092226613965, 0.0005270092226613965, 0.00026350461133069827, 0.0007905138339920949, 0.00026350461133069827, 0.00026350461133069827, 0.00026350461133069827, 0.0005270092226613965, 0.00026350461133069827, 0.00026350461133069827, 0.00026350461133069827, 0.0005270092226613965, 0.00026350461133069827, 0.0005270092226613965, 0.00026350461133069827, 0.00026350461133069827, 0.0005270092226613965, 0.00026350461133069827, 0.0005270092226613965, 0.00026350461133069827, 0.00026350461133069827, 0.0005270092226613965, 0.0005270092226613965, 0.0005270092226613965, 0.0005270092226613965, 0.0005270092226613965, 0.0005270092226613965, 0.00026350461133069827, 0.00026350461133069827, 0.00026350461133069827, 0.00026350461133069827, 0]\n"
     ]
    }
   ],
   "source": [
    "# 5_MapReduceInput/AggregatedPlots/3-DurationDist.py\n",
    "\n",
    "mapped_dir = './results/Simulation/Mapped/'\n",
    "observed_file = './results/SRFiltered_to_SimInput/FAUsers_Cleaned_Formatted.txt'\n",
    "\n",
    "usersDailyLocationCount, usersTripDistances = parse_simulation_results(mapped_dir)\n",
    "user1ObsLocationCount, user1ObsTripDistances = parse_observed_data(observed_file)\n",
    "plot_trip_distance(usersTripDistances, user1ObsTripDistances, './results/figs/3-TripDistance.png')"
   ]
  },
  {
   "cell_type": "code",
   "execution_count": 26,
   "metadata": {},
   "outputs": [
    {
     "name": "stdout",
     "output_type": "stream",
     "text": [
      "Daily Visited locations\n",
      "[-1, 0, 1, 2, 3, 4, 5, 6, 7, 8, 9, 10, 11, 12, 16] [0.012219959266802444, 0.14765784114052954, 0.2637474541751528, 0.22912423625254583, 0.14663951120162932, 0.09266802443991853, 0.045824847250509164, 0.023421588594704685, 0.012219959266802444, 0.012219959266802444, 0.0050916496945010185, 0.004073319755600814, 0.003054989816700611, 0.0010183299389002036, 0.0010183299389002036]\n"
     ]
    }
   ],
   "source": [
    "# 5_MapReduceInput/AggregatedPlots/4-VisitedLocCount.py\n",
    "\n",
    "plot_daily_visited_locations(\n",
    "    mapped_dir='./results/Simulation/Mapped/',\n",
    "    obs_input_path='./results/SRFiltered_to_SimInput/FAUsers_Cleaned_Formatted.txt',\n",
    "    output_path='./results/figs/4-numVisitedLocations'\n",
    ")"
   ]
  },
  {
   "cell_type": "code",
   "execution_count": 27,
   "metadata": {},
   "outputs": [],
   "source": [
    "# 5_MapReduceInput/AggregatedPlots/5-frequency.py\n",
    "\n",
    "plot_location_rank(\n",
    "    mapped_dir='./results/Simulation/Mapped/',\n",
    "    sim_input_file='./results/SRFiltered_to_SimInput/FAUsers_Cleaned_Formatted.txt',\n",
    "    output_file='./results/figs/5-LocationRank-User1.png',\n",
    "    top_n=50)"
   ]
  },
  {
   "cell_type": "code",
   "execution_count": 28,
   "metadata": {},
   "outputs": [
    {
     "name": "stdout",
     "output_type": "stream",
     "text": [
      "AM = 591\n",
      "PM = 728\n",
      "MD = 557\n",
      "RD = 1555\n",
      "Total = 3431.0\n",
      "0.17225298746721074\n",
      "0.21218303701544738\n",
      "0.1623433401340717\n",
      "0.4532206353832702\n"
     ]
    }
   ],
   "source": [
    "# 5_MapReduceInput/AggregatedPlots/6-TimeOfDay.py\n",
    "count_time_periods(mapped_dir='./results/Simulation/Mapped/')"
   ]
  },
  {
   "cell_type": "code",
   "execution_count": 29,
   "metadata": {},
   "outputs": [
    {
     "name": "stdout",
     "output_type": "stream",
     "text": [
      "HBW = 669\n",
      "HBO = 2365\n",
      "NHB = 397\n",
      "Total = 3431\n"
     ]
    }
   ],
   "source": [
    "# 5_MapReduceInput/AggregatedPlots/7-TypeOfTrip.py\n",
    "count_mode_transitions(mapped_dir='./results/Simulation/Mapped/')"
   ]
  },
  {
   "cell_type": "code",
   "execution_count": null,
   "metadata": {},
   "outputs": [],
   "source": []
  },
  {
   "cell_type": "code",
   "execution_count": null,
   "metadata": {},
   "outputs": [],
   "source": []
  }
 ],
 "metadata": {
  "kernelspec": {
   "display_name": "general_env",
   "language": "python",
   "name": "python3"
  },
  "language_info": {
   "codemirror_mode": {
    "name": "ipython",
    "version": 3
   },
   "file_extension": ".py",
   "mimetype": "text/x-python",
   "name": "python",
   "nbconvert_exporter": "python",
   "pygments_lexer": "ipython3",
   "version": "3.9.19"
  }
 },
 "nbformat": 4,
 "nbformat_minor": 2
}
